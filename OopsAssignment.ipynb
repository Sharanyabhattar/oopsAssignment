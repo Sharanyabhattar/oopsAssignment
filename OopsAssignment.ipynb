{
  "nbformat": 4,
  "nbformat_minor": 0,
  "metadata": {
    "colab": {
      "provenance": []
    },
    "kernelspec": {
      "name": "python3",
      "display_name": "Python 3"
    },
    "language_info": {
      "name": "python"
    }
  },
  "cells": [
    {
      "cell_type": "code",
      "execution_count": null,
      "metadata": {
        "id": "4rjrnAgizYUJ"
      },
      "outputs": [],
      "source": []
    },
    {
      "cell_type": "markdown",
      "source": [
        "1. What is Object-Oriented Programming (OOP)?\n",
        "- Object-Oriented Programming (OOP) is a programming paradigm that organizes software design around objects rather than functions and logic. An object is an instance of a class, which can contain both data (attributes or properties) and methods (functions or behaviors).\n",
        "\n",
        "2.  What is a class in OOP?\n",
        "- A class in (OOP) is like a blueprint or template for creating objects. It defines the properties (attributes) and behaviors (methods) that the objects created from it will have.\n",
        "\n",
        "Think of a class as a recipe, and an object as the cake you bake from that recipe. The class itself doesn’t do anything until you use it to create objects (also called instances).\n",
        "\n",
        "3.  What is an object in OOP?\n",
        "- An object in (OOP) is a real-world instance of a class. It is created from a class and contains both data (in the form of attributes or fields) and behavior (in the form of methods or functions).\n",
        "\n",
        "Think of a class as the blueprint, and the object as the actual thing you build from that blueprint.\n",
        "\n",
        "4. What is the difference between abstraction and encapsulation?\n",
        "- Abstraction and Encapsulation are two core concepts in (OOP), and while they are related, they serve different purposes.\n",
        "\n",
        "* Abstraction – Hiding complexity, showing only essentials\n",
        "Goal: Focus on what an object does, not how it does it.\n",
        "\n",
        " - It hides the implementation details and only exposes the functionality.\n",
        "\n",
        " - Makes code easier to understand and maintain.\n",
        "\n",
        "example:- Think of it as using a TV remote — you press a button to change the channel but don’t know how it works internally.\n",
        "\n",
        "* Encapsulation – Bundling and restricting access\n",
        " - Goal: Protect internal object state by restricting access to certain components.\n",
        "\n",
        " - It keeps the internal data private and allows access through public methods.\n",
        "\n",
        " - Helps prevent accidental changes or misuse.\n",
        "\n",
        "example:- Like putting your valuables in a safe — only accessible with a key (public method).\n",
        "\n",
        "5. What are dunder methods in Python?\n",
        "- Dunder methods in Python (short for double underscore methods) are special, built-in methods that start and end with double underscores (like __init__, __str__, __add__, etc.). They’re also known as magic methods or special methods.\n",
        "\n",
        "- These methods are not meant to be called directly by you most of the time—instead, Python calls them automatically in certain situations.\n",
        "\n",
        "6.  Explain the concept of inheritance in OOP?\n",
        "- Inheritance is a fundamental concept in (OOP) that allows one class (called a child or subclass) to inherit the properties and behaviors (attributes and methods) of another class (called a parent or superclass).\n",
        "\n",
        "- This promotes code reuse and helps organize code in a logical, hierarchical structure.\n",
        "\n",
        "\n",
        "(A child class inherits everything from the parent class, but can also add new features or override existing ones).\n",
        "\n",
        "7. What is polymorphism in OOP?\n",
        "- Polymorphism is one of the core concepts in (OOP). It comes from Greek meaning “many forms,” and in programming, it refers to the ability of different objects to respond to the same method call in different ways.\n",
        "\n",
        "- Polymorphism allows methods to have the same name but behave differently based on the object calling them.\n",
        "\n",
        "This makes your code more flexible and extensible.\n",
        "\n",
        "8. How is encapsulation achieved in Python?\n",
        "- Python doesn’t have traditional access modifiers like private, protected, or public (as in Java or C++), but it uses naming conventions and name mangling to simulate them.\n",
        " * Public- Accessible from anywhere from outside or inside of class\n",
        " * Private (use case __)- the data & method is only accessible within its class.\n",
        "  * Protcted (use case _)- within the class and its subclass proctected members can be accessed.\n",
        "\n",
        "9. What is a constructor in Python?\n",
        "- A constructor is a special method used to initialize a newly created object. In Python, this is done using the __init__() method.\n",
        "\n",
        "It’s automatically called when you create an object of a class.\n",
        "\n",
        "\"\"\" class ClassName:\n",
        "    def __init__(self, parameters): \"\"\"\n",
        "\n",
        "10.  What are class and static methods in Python?\n",
        "-  1. Class Methods (@classmethod)\n",
        " * A class method works with the class itself, not just an object (instance).\n",
        " * It receives the class as the first argument, usually named cls.\n",
        "\n",
        " - 2. Static Methods (@staticmethod)\n",
        " * A static method is just a regular function that's logically grouped inside a class.\n",
        " * It doesn't receive self or cls.\n",
        " * It can’t modify object or class state.\n",
        "      \n",
        "11.  What is method overloading in Python?\n",
        "- method overloading refers to the ability to define multiple methods with the same name but different parameters (like in languages such as Java or C++). However, Python does not support true method overloading in the way those languages do.\n",
        "\n",
        "12. What is method overriding in OOP?\n",
        "- Method overriding occurs when a child class (or subclass) provides a new implementation of a method that is already defined in its parent class (or superclass).\n",
        "\n",
        " * The child class's method replaces the parent class's method, and it is called when you use an instance of the child class.\n",
        "\n",
        " * It allows the child class to provide its own specific behavior for a method that’s inherited from the parent class.\n",
        "\n",
        "13. What is a property decorator in Python?\n",
        "- The property decorator in Python is a built-in decorator that allows you to define getter methods in a class as if they were regular attributes. This provides a way to encapsulate attributes while keeping the syntax clean and intuitive, as you can access methods just like attributes. (use case: @property)\n",
        "\n",
        "14.  Why is polymorphism important in OOP?\n",
        "- Polymorphism allows you to write generic code that can work with objects of different classes. You don't need to rewrite logic for each type of object; instead, you can use the same method on different objects, and each object will respond appropriately.\n",
        "\n",
        "15.  What is an abstract class in Python?\n",
        "- An abstract class in Python is a class that cannot be instantiated directly. Instead, it serves as a blueprint for other classes to inherit from. It is used to define methods that must be implemented within any child class, ensuring a common interface across all subclasses.\n",
        "- Cannot be instantiated, you cannot create an instance of an abstract class directly.\n",
        "\n",
        "- An abstract class can have abstract methods, which are methods that are declared but not implemented in the abstract class itself.\n",
        "\n",
        "- Used as a base class, Other classes inherit from an abstract class and are required to implement the abstract methods.\n",
        "\n",
        "16. What are the advantages of OOP?\n",
        "- OOP offers several significant advantages that help improve the structure, maintainability, and scalability of software. Here are the key advantages of OOP:\n",
        "- Modularity: Code is organized into classes, making it easier to manage and maintain.\n",
        "- Code reusablity: Inheritance allows you to reuse code and extend functionality.\n",
        "- Encapsulation: Internal states are hidden and only exposed through controlled interfaces.\n",
        "- Abstraction: Complex implementation details are hidden from users.\n",
        "- Polymorphism: Different objects can respond to the same method call in different ways, making code flexible.\n",
        "- Easy Maintenance: Changes can be made to specific parts of the code without affecting others.\n",
        "- Collaboration & Scalability: Teams can work on different modules of the system at the same time, and the system can grow easily.\n",
        "- Troubleshooting: Problems are easier to isolate to specific objects or classes.\n",
        "- Real-World Modeling: OOP closely matches how we perceive the real world, making system design more intuitive.\n",
        "- Security: Internal object data can be protected through access control.\n",
        "- Consistency: Encourages consistent structure and design principles.\n",
        "\n",
        "17. What is the difference between a class variable and an instance variable?\n",
        "-  class variables and instance variables are both used to store data associated with a class, but they are used in different contexts and behave differently.\n",
        "\n",
        " * Class Variable: A class variable is shared by all instances of the class. It is defined within the class but outside any instance methods (including the constructor __init__). Class variables are usually used to store data or attributes that should be shared across all instances of the class.\n",
        "\n",
        " * Instance Variable: An instance variable is specific to an individual instance of the class. It is typically defined within the constructor (__init__) or other instance methods. Each object (instance) of the class can have its own value for the instance variable.\n",
        "\n",
        " 18.  What is multiple inheritance in Python?\n",
        " - Multiple inheritance in Python refers to the ability of a class to inherit attributes and methods from more than one parent class. This allows a class to combine functionality from multiple base classes.\n",
        "\n",
        "19. Explain the purpose of ‘’__str__’ and ‘__repr__’ ‘ methods in Python?\n",
        "- Purpose: The __str__ method is used to define a human-readable string representation of an object. When you print an object or use str() on an object, Python will call this method.\n",
        "\n",
        "Use Case: __str__ should return a user-friendly string representation of the object. This is useful for when you want to display the object in a readable format, such as when you print it to the console or log it for the user.\n",
        "\n",
        "- Purpose: The __repr__ method is used to define a formal string representation of the object that is meant to be unambiguous and ideally could be used to recreate the object. When you call repr() on an object or inspect an object in the interactive Python shell (for example, by typing the object's name), Python will call this method.\n",
        "\n",
        "Use Case: __repr__ is primarily used for debugging and logging purposes. The goal of __repr__ is to return a string that could, in most cases, be used to recreate the object. This is helpful for developers when inspecting objects.\n",
        "\n",
        "20. What is the significance of the ‘super()’ function in Python?\n",
        "- The super() function in Python is used to call methods from a parent class (also known as a superclass) in a child class (also known as a subclass). It allows you to call methods from the parent class without explicitly naming the parent class. This is especially useful when you want to extend or override methods in a child class but still need to invoke functionality from the parent class.\n",
        "\n",
        "21. What is the significance of the __del__ method in Python?\n",
        "- The __del__ method in Python is a special method that is used to define a destructor for an object. It is called when an object is garbage collected, i.e., when it is no longer needed and is about to be destroyed. The primary purpose of __del__ is to clean up any resources or perform any necessary finalization tasks before an object is destroyed.\n",
        "\n",
        "22. What is the difference between @staticmethod and @classmethod in Python?\n",
        "- In Python, both @staticmethod and @classmethod are used to define methods that are associated with the class rather than with instances of the class, but they serve slightly different purposes.\n",
        "differences:\n",
        "\n",
        "1. @staticmethod:\n",
        "A static method is a method that belongs to the class, but it doesn't take an implicit first argument (like self or cls). It behaves like a regular function that belongs to the class's namespace, but it doesn't have access to instance-specific or class-specific data. It is used when you want a function that logically belongs to the class, but doesn't require access to the class or instance itself.\n",
        "\n",
        "2. @classmethod:\n",
        "A class method is a method that is bound to the class and not the instance. It takes the class (cls) as its first argument, which allows it to modify class-level properties and methods. This makes it useful when you want to perform operations that affect the class itself, not the individual instances.\n",
        "\n",
        "23. How does polymorphism work in Python with inheritance?\n",
        "- In Python, polymorphism refers to the ability of different classes to be treated as instances of the same class through inheritance, allowing the same method or operation to behave differently depending on the object that invokes it. This is one of the core principles of Object-Oriented Programming (OOP) and is closely related to inheritance.\n",
        "\n",
        "When we combine inheritance with polymorphism, we can achieve flexibility in our code. Polymorphism allows us to define methods in a parent class and override them in a child class. This gives us the ability to call the same method name on objects of different classes, and the behavior will be determined by the object’s class.\n",
        "\n",
        "23. How Polymorphism Works with Inheritance:\n",
        "- 1. Method Overriding: A child class can override a method that is already defined in the parent class, and when the method is called on an instance of the child class, the child class's version of the method is executed.\n",
        "\n",
        "- 2. Dynamic Method Resolution: When the method is invoked, Python dynamically determines which version of the method (parent or child) should be called, based on the type of the object.\n",
        "\n",
        "24. What is method chaining in Python OOP?\n",
        "- Method chaining in Python (or any other Object-Oriented Programming language) refers to the practice of calling multiple methods on the same object in a single line of code. In method chaining, each method returns the object itself (typically self), allowing the next method to be called on the same object.\n",
        "\n",
        "This approach makes the code more concise and readable by chaining multiple method calls together, instead of calling them one after the other on separate lines.\n",
        "\n",
        "25. What is the purpose of the __call__ method in Python?\n",
        "- The __call__ method in Python is a special method that allows an instance of a class to be called like a function. In other words, if you define a __call__ method in a class, you can create an object of that class and then call it using the () syntax, just like calling a regular function.\n",
        "\n",
        "This allows objects to be more flexible, as they can behave like functions, and it’s commonly used for things like creating callable objects, implementing decorators, or making objects that have specific behavior when invoked."
      ],
      "metadata": {
        "id": "bwxO0DWfzeYY"
      }
    },
    {
      "cell_type": "code",
      "source": [
        "# Practical questions"
      ],
      "metadata": {
        "id": "wN9wXBn80OcU"
      },
      "execution_count": null,
      "outputs": []
    },
    {
      "cell_type": "code",
      "source": [
        "# 1.  Create a parent class Animal with a method speak() that prints a generic message. Create a child class Dog\n",
        "# that overrides the speak() method to print \"Bark!\".\n",
        "# Parent class\n",
        "class Animal:\n",
        "    def speak(self):\n",
        "        print(\"The animal makes a sound.\")\n",
        "\n",
        "# Child class\n",
        "class Dog(Animal):\n",
        "    def speak(self):\n",
        "        print(\"Bark!\")\n",
        "\n"
      ],
      "metadata": {
        "id": "-BRt1OtFzGOD"
      },
      "execution_count": null,
      "outputs": []
    },
    {
      "cell_type": "code",
      "source": [
        "generic_animal = Animal()\n",
        "generic_animal.speak()"
      ],
      "metadata": {
        "colab": {
          "base_uri": "https://localhost:8080/"
        },
        "id": "79TgCUpOzt40",
        "outputId": "165ebe01-6db9-496d-8cd8-43d60132e044"
      },
      "execution_count": null,
      "outputs": [
        {
          "output_type": "stream",
          "name": "stdout",
          "text": [
            "The animal makes a sound.\n"
          ]
        }
      ]
    },
    {
      "cell_type": "code",
      "source": [
        "dog = Dog()\n",
        "dog.speak()"
      ],
      "metadata": {
        "colab": {
          "base_uri": "https://localhost:8080/"
        },
        "id": "Ea3Tc8wlz276",
        "outputId": "5f867cef-3882-4d6f-d1f6-91b5583c21a9"
      },
      "execution_count": null,
      "outputs": [
        {
          "output_type": "stream",
          "name": "stdout",
          "text": [
            "Bark!\n"
          ]
        }
      ]
    },
    {
      "cell_type": "code",
      "source": [
        "# 2.  Write a program to create an abstract class Shape with a method area(). Derive classes Circle and Rectangle\n",
        "# from it and implement the area() method in both.\n",
        "from abc import ABC, abstractmethod\n",
        "import math\n",
        "\n",
        "# Abstract base class\n",
        "class Shape(ABC):\n",
        "    @abstractmethod\n",
        "    def area(self):\n",
        "        pass\n",
        "\n",
        "# Derived class for Circle\n",
        "class Circle(Shape):\n",
        "    def __init__(self, radius):\n",
        "        self.radius = radius\n",
        "\n",
        "    def area(self):\n",
        "        return math.pi * self.radius ** 2\n",
        "\n",
        "# Derived class for Rectangle\n",
        "class Rectangle(Shape):\n",
        "    def __init__(self, width, height):\n",
        "        self.width = width\n",
        "        self.height = height\n",
        "\n",
        "    def area(self):\n",
        "        return self.width * self.height"
      ],
      "metadata": {
        "id": "WDTyBHIY0VKB"
      },
      "execution_count": null,
      "outputs": []
    },
    {
      "cell_type": "code",
      "source": [
        "circle = Circle(5)\n",
        "rectangle = Rectangle(4, 6)\n",
        "\n",
        "print(f\"Area of the circle: {circle.area():.2f}\")\n",
        "print(f\"Area of the rectangle: {rectangle.area()}\")\n"
      ],
      "metadata": {
        "colab": {
          "base_uri": "https://localhost:8080/"
        },
        "id": "8nXAkXxs2DEl",
        "outputId": "82d9c0cc-5314-4cfb-91b1-7c525329faf3"
      },
      "execution_count": null,
      "outputs": [
        {
          "output_type": "stream",
          "name": "stdout",
          "text": [
            "Area of the circle: 78.54\n",
            "Area of the rectangle: 24\n"
          ]
        }
      ]
    },
    {
      "cell_type": "code",
      "source": [
        "# 3.  Implement a multi-level inheritance scenario where a class Vehicle has an attribute type. Derive a class Car\n",
        "# and further derive a class ElectricCar that adds a battery attribute.\n",
        "# Base class\n",
        "class Vehicle:\n",
        "    def __init__(self, vehicle_type):\n",
        "        self.vehicle_type = vehicle_type\n",
        "\n",
        "    def show_type(self):\n",
        "        print(f\"Vehicle type: {self.vehicle_type}\")\n",
        "\n",
        "# Derived class from Vehicle\n",
        "class Car(Vehicle):\n",
        "    def __init__(self, vehicle_type, brand):\n",
        "        super().__init__(vehicle_type)\n",
        "        self.brand = brand\n",
        "\n",
        "    def show_brand(self):\n",
        "        print(f\"Car brand: {self.brand}\")\n",
        "\n",
        "# Further derived class from Car\n",
        "class ElectricCar(Car):\n",
        "    def __init__(self, vehicle_type, brand, battery_capacity):\n",
        "        super().__init__(vehicle_type, brand)\n",
        "        self.battery_capacity = battery_capacity\n",
        "\n",
        "    def show_battery(self):\n",
        "        print(f\"Battery capacity: {self.battery_capacity} kWh\")\n"
      ],
      "metadata": {
        "id": "CFvb8yML2ES5"
      },
      "execution_count": null,
      "outputs": []
    },
    {
      "cell_type": "code",
      "source": [
        "e_car = ElectricCar(\"Four Wheeler\", \"Tesla\", 85)\n",
        "\n",
        "e_car.show_type()       # From Vehicle\n",
        "e_car.show_brand()      # From Car\n",
        "e_car.show_battery()    # From ElectricCar"
      ],
      "metadata": {
        "colab": {
          "base_uri": "https://localhost:8080/"
        },
        "id": "rhzZXD-731mG",
        "outputId": "b7021381-15fb-4e8d-fbe0-7442a58c7fd5"
      },
      "execution_count": null,
      "outputs": [
        {
          "output_type": "stream",
          "name": "stdout",
          "text": [
            "Vehicle type: Four Wheeler\n",
            "Car brand: Tesla\n",
            "Battery capacity: 85 kWh\n"
          ]
        }
      ]
    },
    {
      "cell_type": "code",
      "source": [
        "# 4. Demonstrate polymorphism by creating a base class Bird with a method fly(). Create two derived classes\n",
        "# Sparrow and Penguin that override the fly() method.\n",
        "# Base class\n",
        "class Bird:\n",
        "    def fly(self):\n",
        "        print(\"This bird can fly... in general.\")\n",
        "\n",
        "# Derived class: Sparrow\n",
        "class Sparrow(Bird):\n",
        "    def fly(self):\n",
        "        print(\"Sparrow flies high and fast!\")\n",
        "\n",
        "# Derived class: Penguin\n",
        "class Penguin(Bird):\n",
        "    def fly(self):\n",
        "        print(\"Penguins cannot fly, they waddle and swim instead!\")\n",
        "\n",
        "# Function that demonstrates polymorphism\n",
        "def bird_flight(bird):\n",
        "    bird.fly()"
      ],
      "metadata": {
        "id": "SHIKKI934J0W"
      },
      "execution_count": null,
      "outputs": []
    },
    {
      "cell_type": "code",
      "source": [
        "sparrow = Sparrow()\n",
        "penguin = Penguin()"
      ],
      "metadata": {
        "id": "Rdbfydoz5jAI"
      },
      "execution_count": null,
      "outputs": []
    },
    {
      "cell_type": "code",
      "source": [
        "bird_flight(sparrow)\n",
        "bird_flight(penguin)"
      ],
      "metadata": {
        "colab": {
          "base_uri": "https://localhost:8080/"
        },
        "id": "Zomikdp25pA3",
        "outputId": "28240fc9-7b66-4d2a-e4f0-19a0546833e7"
      },
      "execution_count": null,
      "outputs": [
        {
          "output_type": "stream",
          "name": "stdout",
          "text": [
            "Sparrow flies high and fast!\n",
            "Penguins cannot fly, they waddle and swim instead!\n"
          ]
        }
      ]
    },
    {
      "cell_type": "code",
      "source": [
        "# 5.  Write a program to demonstrate encapsulation by creating a class BankAccount with private attributes\n",
        "# balance and methods to deposit, withdraw, and check balance.\n",
        "class BankAccount:\n",
        "    def __init__(self, initial_balance=0):\n",
        "        self.__balance = initial_balance  # Private attribute\n",
        "\n",
        "    def deposit(self, amount):\n",
        "        if amount > 0:\n",
        "            self.__balance += amount\n",
        "            print(f\"Deposited: ${amount}\")\n",
        "        else:\n",
        "            print(\"Deposit amount must be positive.\")\n",
        "\n",
        "    def withdraw(self, amount):\n",
        "        if 0 < amount <= self.__balance:\n",
        "            self.__balance -= amount\n",
        "            print(f\"Withdrew: ${amount}\")\n",
        "        else:\n",
        "            print(\"Insufficient balance or invalid amount.\")\n",
        "\n",
        "    def check_balance(self):\n",
        "        print(f\"Current balance: ${self.__balance}\")"
      ],
      "metadata": {
        "id": "S0braeRj53vc"
      },
      "execution_count": null,
      "outputs": []
    },
    {
      "cell_type": "code",
      "source": [
        "account = BankAccount(100)\n",
        "account.check_balance()"
      ],
      "metadata": {
        "colab": {
          "base_uri": "https://localhost:8080/"
        },
        "id": "DTcHS3cP6Neo",
        "outputId": "accb4033-b320-48aa-e3a6-f37f53cf5c3c"
      },
      "execution_count": null,
      "outputs": [
        {
          "output_type": "stream",
          "name": "stdout",
          "text": [
            "Current balance: $100\n"
          ]
        }
      ]
    },
    {
      "cell_type": "code",
      "source": [
        "account.deposit(50)\n",
        "account.check_balance()"
      ],
      "metadata": {
        "colab": {
          "base_uri": "https://localhost:8080/"
        },
        "id": "tgTTvnx06vwH",
        "outputId": "05ae26b4-6497-4adc-d6f4-6ce2602d46dd"
      },
      "execution_count": null,
      "outputs": [
        {
          "output_type": "stream",
          "name": "stdout",
          "text": [
            "Deposited: $50\n",
            "Current balance: $150\n"
          ]
        }
      ]
    },
    {
      "cell_type": "code",
      "source": [
        "account.withdraw(30)\n",
        "account.check_balance()"
      ],
      "metadata": {
        "colab": {
          "base_uri": "https://localhost:8080/"
        },
        "id": "Ucby1UJm64FI",
        "outputId": "d603b457-fb02-40ba-ff63-c656119d640b"
      },
      "execution_count": null,
      "outputs": [
        {
          "output_type": "stream",
          "name": "stdout",
          "text": [
            "Withdrew: $30\n",
            "Current balance: $120\n"
          ]
        }
      ]
    },
    {
      "cell_type": "code",
      "source": [
        "# 6. Demonstrate runtime polymorphism using a method play() in a base class Instrument. Derive classes Guitar\n",
        "# and Piano that implement their own version of play().\n",
        "# Base class\n",
        "class Instrument:\n",
        "    def play(self):\n",
        "        print(\"Playing an instrument.\")\n",
        "\n",
        "# Derived class: Guitar\n",
        "class Guitar(Instrument):\n",
        "    def play(self):\n",
        "        print(\"Strumming the guitar!\")\n",
        "\n",
        "# Derived class: Piano\n",
        "class Piano(Instrument):\n",
        "    def play(self):\n",
        "        print(\"Playing the piano keys!\")\n",
        "\n",
        "# Function demonstrating runtime polymorphism\n",
        "def perform_play(instrument):\n",
        "    instrument.play()"
      ],
      "metadata": {
        "id": "h66_8vGv8NxF"
      },
      "execution_count": null,
      "outputs": []
    },
    {
      "cell_type": "code",
      "source": [
        "instruments = [Guitar(), Piano()]\n"
      ],
      "metadata": {
        "id": "Ylg0Ivmq8wKt"
      },
      "execution_count": null,
      "outputs": []
    },
    {
      "cell_type": "code",
      "source": [
        "for inst in instruments:\n",
        "    perform_play(inst)"
      ],
      "metadata": {
        "colab": {
          "base_uri": "https://localhost:8080/"
        },
        "id": "1WOd2fFJ88Bq",
        "outputId": "0efe5d40-85f2-4075-d933-e9a9f0432ffc"
      },
      "execution_count": null,
      "outputs": [
        {
          "output_type": "stream",
          "name": "stdout",
          "text": [
            "Strumming the guitar!\n",
            "Playing the piano keys!\n"
          ]
        }
      ]
    },
    {
      "cell_type": "code",
      "source": [
        "# 7. Create a class MathOperations with a class method add_numbers() to add two numbers and a static\n",
        "# method subtract_numbers() to subtract two numbers.\n",
        "class MathOperations:\n",
        "    # Class method\n",
        "    @classmethod\n",
        "    def add_numbers(cls, a, b):\n",
        "        return a + b\n",
        "\n",
        "    # Static method\n",
        "    @staticmethod\n",
        "    def subtract_numbers(a, b):\n",
        "        return a - b\n"
      ],
      "metadata": {
        "id": "8kLH3ViB-LPT"
      },
      "execution_count": null,
      "outputs": []
    },
    {
      "cell_type": "code",
      "source": [
        "sum_result = MathOperations.add_numbers(10, 5)\n",
        "diff_result = MathOperations.subtract_numbers(10, 5)\n",
        "\n",
        "print(f\"Sum: {sum_result}\")\n",
        "print(f\"Difference: {diff_result}\")"
      ],
      "metadata": {
        "colab": {
          "base_uri": "https://localhost:8080/"
        },
        "id": "H8y1h2c0-UPo",
        "outputId": "faf1338b-1b7f-4312-c968-b80b30df351d"
      },
      "execution_count": null,
      "outputs": [
        {
          "output_type": "stream",
          "name": "stdout",
          "text": [
            "Sum: 15\n",
            "Difference: 5\n"
          ]
        }
      ]
    },
    {
      "cell_type": "code",
      "source": [
        "# 8.  Implement a class Person with a class method to count the total number of persons created.\n",
        "class Person:\n",
        "    count = 0\n",
        "\n",
        "    def __init__(self, name):\n",
        "        self.name = name\n",
        "        Person.count += 1\n",
        "\n",
        "    @classmethod\n",
        "    def total_persons(cls):\n",
        "        return cls.count"
      ],
      "metadata": {
        "id": "yUod20Q5-rCg"
      },
      "execution_count": null,
      "outputs": []
    },
    {
      "cell_type": "code",
      "source": [
        "p1 = Person(\"Alice\")\n",
        "p2 = Person(\"Bob\")\n",
        "p3 = Person(\"Charlie\")\n",
        "\n",
        "print(f\"Total persons created: {Person.total_persons()}\")"
      ],
      "metadata": {
        "colab": {
          "base_uri": "https://localhost:8080/"
        },
        "id": "pjP1iZwnGx2H",
        "outputId": "e07a6261-4f7b-45fd-b5f3-9c24e2a3ebdd"
      },
      "execution_count": null,
      "outputs": [
        {
          "output_type": "stream",
          "name": "stdout",
          "text": [
            "Total persons created: 3\n"
          ]
        }
      ]
    },
    {
      "cell_type": "code",
      "source": [
        "# 9.  Write a class Fraction with attributes numerator and denominator. Override the str method to display the\n",
        "# fraction as \"numerator/denominator\".\n",
        "class Fraction:\n",
        "    def __init__(self, numerator, denominator):\n",
        "        if denominator == 0:\n",
        "            raise ValueError(\"Denominator cannot be zero.\")\n",
        "        self.numerator = numerator\n",
        "        self.denominator = denominator\n",
        "\n",
        "    def __str__(self):\n",
        "        return f\"{self.numerator}/{self.denominator}\"\n"
      ],
      "metadata": {
        "id": "UmA3C52n_LLG"
      },
      "execution_count": null,
      "outputs": []
    },
    {
      "cell_type": "code",
      "source": [
        "f1 = Fraction(3, 4)\n",
        "f2 = Fraction(5, 1)\n",
        "\n",
        "print(f\"Fraction 1: {f1}\")\n",
        "print(f\"Fraction 2: {f2}\")"
      ],
      "metadata": {
        "colab": {
          "base_uri": "https://localhost:8080/"
        },
        "id": "0O9UMopq_a93",
        "outputId": "b0a8ac57-c78c-4bc0-e902-9a9f9a51afd9"
      },
      "execution_count": null,
      "outputs": [
        {
          "output_type": "stream",
          "name": "stdout",
          "text": [
            "Fraction 1: 3/4\n",
            "Fraction 2: 5/1\n"
          ]
        }
      ]
    },
    {
      "cell_type": "code",
      "source": [
        "# 10. Demonstrate operator overloading by creating a class Vector and overriding the add method to add two\n",
        "# vectors.\n",
        "class Vector:\n",
        "    def __init__(self, x, y):\n",
        "        self.x = x\n",
        "        self.y = y\n",
        "\n",
        "    def __add__(self, other):\n",
        "        if isinstance(other, Vector):\n",
        "            return Vector(self.x + other.x, self.y + other.y)\n",
        "        return NotImplemented\n",
        "\n",
        "    def __str__(self):\n",
        "        return f\"Vector({self.x}, {self.y})\"\n"
      ],
      "metadata": {
        "id": "DIrsWErD_ziu"
      },
      "execution_count": null,
      "outputs": []
    },
    {
      "cell_type": "code",
      "source": [
        "v1 = Vector(2, 3)\n",
        "v2 = Vector(4, 5)\n",
        "v3 = v1 + v2\n",
        "\n",
        "print(f\"v1: {v1}\")\n",
        "print(f\"v2: {v2}\")\n",
        "print(f\"v1 + v2: {v3}\")\n"
      ],
      "metadata": {
        "colab": {
          "base_uri": "https://localhost:8080/"
        },
        "id": "HPngXwGxAK45",
        "outputId": "6763844e-5cec-421a-9568-47634b68017d"
      },
      "execution_count": null,
      "outputs": [
        {
          "output_type": "stream",
          "name": "stdout",
          "text": [
            "v1: Vector(2, 3)\n",
            "v2: Vector(4, 5)\n",
            "v1 + v2: Vector(6, 8)\n"
          ]
        }
      ]
    },
    {
      "cell_type": "code",
      "source": [
        "# 11.  Create a class Person with attributes name and age. Add a method greet() that prints \"Hello, my name is\n",
        "# {name} and I am {age} years old.\"\n",
        "class Person:\n",
        "    def __init__(self, name, age):\n",
        "        self.name = name\n",
        "        self.age = age\n",
        "\n",
        "    def greet(self):\n",
        "        print(f\"Hello, my name is {self.name} and I am {self.age} years old.\")\n"
      ],
      "metadata": {
        "id": "kfM76tNdAWWO"
      },
      "execution_count": null,
      "outputs": []
    },
    {
      "cell_type": "code",
      "source": [
        "person1 = Person(\"Ajay\", 30)\n",
        "person2 = Person(\"Vijay\", 25)\n",
        "\n",
        "person1.greet()\n",
        "person2.greet()"
      ],
      "metadata": {
        "colab": {
          "base_uri": "https://localhost:8080/"
        },
        "id": "1kTBJMKaA2tg",
        "outputId": "fad8d7f6-5899-4f99-bcdd-4ce58b23f4e1"
      },
      "execution_count": null,
      "outputs": [
        {
          "output_type": "stream",
          "name": "stdout",
          "text": [
            "Hello, my name is Ajay and I am 30 years old.\n",
            "Hello, my name is Vijay and I am 25 years old.\n"
          ]
        }
      ]
    },
    {
      "cell_type": "code",
      "source": [
        "# 12.  Implement a class Student with attributes name and grades. Create a method average_grade() to compute\n",
        "# the average of the grades.\n",
        "class Student:\n",
        "    def __init__(self, name, grades):\n",
        "        self.name = name\n",
        "        self.grades = grades\n",
        "\n",
        "    def average_grade(self):\n",
        "        if len(self.grades) == 0:\n",
        "            return 0\n",
        "        return sum(self.grades) / len(self.grades)"
      ],
      "metadata": {
        "id": "I91evWw3B19g"
      },
      "execution_count": null,
      "outputs": []
    },
    {
      "cell_type": "code",
      "source": [
        "student1 = Student(\"Alice\", [90, 85, 88, 92])\n",
        "student2 = Student(\"Bob\", [78, 82, 74, 80])\n",
        "\n",
        "print(f\"{student1.name}'s average grade: {student1.average_grade():.2f}\")\n",
        "print(f\"{student2.name}'s average grade: {student2.average_grade():.2f}\")"
      ],
      "metadata": {
        "colab": {
          "base_uri": "https://localhost:8080/"
        },
        "id": "df6uwB-xCKbU",
        "outputId": "dbccd6e9-1ea3-45b4-a8a2-cf5e95ffcead"
      },
      "execution_count": null,
      "outputs": [
        {
          "output_type": "stream",
          "name": "stdout",
          "text": [
            "Alice's average grade: 88.75\n",
            "Bob's average grade: 78.50\n"
          ]
        }
      ]
    },
    {
      "cell_type": "code",
      "source": [
        "# 13. Create a class Rectangle with methods set_dimensions() to set the dimensions and area() to calculate the\n",
        "# area\n",
        "class Rectangle:\n",
        "    def __init__(self):\n",
        "        self.length = 0\n",
        "        self.width = 0\n",
        "\n",
        "    def set_dimensions(self, length, width):\n",
        "        self.length = length\n",
        "        self.width = width\n",
        "\n",
        "    def area(self):\n",
        "        return self.length * self.width"
      ],
      "metadata": {
        "id": "-DVnId_LCOgZ"
      },
      "execution_count": null,
      "outputs": []
    },
    {
      "cell_type": "code",
      "source": [
        "rect = Rectangle()\n",
        "rect.set_dimensions(5, 3)\n",
        "\n",
        "print(f\"Area of the rectangle: {rect.area()}\")"
      ],
      "metadata": {
        "colab": {
          "base_uri": "https://localhost:8080/"
        },
        "id": "wxVEArBWClAp",
        "outputId": "43bf926a-fddc-4daa-ac90-1d25732444ae"
      },
      "execution_count": null,
      "outputs": [
        {
          "output_type": "stream",
          "name": "stdout",
          "text": [
            "Area of the rectangle: 15\n"
          ]
        }
      ]
    },
    {
      "cell_type": "code",
      "source": [
        "# 14.  Create a class Employee with a method calculate_salary() that computes the salary based on hours worked\n",
        "# and hourly rate. Create a derived class Manager that adds a bonus to the salary.\n",
        "class Employee:\n",
        "    def __init__(self, name, hours_worked, hourly_rate):\n",
        "        self.name = name\n",
        "        self.hours_worked = hours_worked\n",
        "        self.hourly_rate = hourly_rate\n",
        "\n",
        "    def calculate_salary(self):\n",
        "        return self.hours_worked * self.hourly_rate\n",
        "\n",
        "# Derived class Manager\n",
        "class Manager(Employee):\n",
        "    def __init__(self, name, hours_worked, hourly_rate, bonus):\n",
        "        super().__init__(name, hours_worked, hourly_rate)\n",
        "        self.bonus = bonus\n",
        "\n",
        "    def calculate_salary(self):\n",
        "        base_salary = super().calculate_salary()\n",
        "        return base_salary + self.bonus\n"
      ],
      "metadata": {
        "id": "vUhgOKvRCrsH"
      },
      "execution_count": null,
      "outputs": []
    },
    {
      "cell_type": "code",
      "source": [
        "employee = Employee(\"John\", 40, 20)\n",
        "manager = Manager(\"Alice\", 40, 30, 500)\n",
        "\n",
        "print(f\"{employee.name}'s Salary: ${employee.calculate_salary()}\")\n",
        "print(f\"{manager.name}'s Salary: ${manager.calculate_salary()}\")"
      ],
      "metadata": {
        "colab": {
          "base_uri": "https://localhost:8080/"
        },
        "id": "eDrTTyQ0DAJ0",
        "outputId": "fec0d007-627d-4dd7-fefd-bef3759ece8e"
      },
      "execution_count": null,
      "outputs": [
        {
          "output_type": "stream",
          "name": "stdout",
          "text": [
            "John's Salary: $800\n",
            "Alice's Salary: $1700\n"
          ]
        }
      ]
    },
    {
      "cell_type": "code",
      "source": [
        "# 15. Create a class Product with attributes name, price, and quantity. Implement a method total_price() that\n",
        "# calculates the total price of the product.\n",
        "class Product:\n",
        "    def __init__(self, name, price, quantity):\n",
        "        self.name = name\n",
        "        self.price = price\n",
        "        self.quantity = quantity\n",
        "\n",
        "    def total_price(self):\n",
        "        return self.price * self.quantity"
      ],
      "metadata": {
        "id": "Cglc7dDdDJ4V"
      },
      "execution_count": null,
      "outputs": []
    },
    {
      "cell_type": "code",
      "source": [
        "product1 = Product(\"Laptop\", 1000, 3)\n",
        "product2 = Product(\"Phone\", 500, 5)\n",
        "\n",
        "print(f\"Total price of {product1.name}: ${product1.total_price()}\")\n",
        "print(f\"Total price of {product2.name}: ${product2.total_price()}\")"
      ],
      "metadata": {
        "colab": {
          "base_uri": "https://localhost:8080/"
        },
        "id": "y9jSu7Q5DeTY",
        "outputId": "597db164-7151-4409-f2f5-c52f596ef65f"
      },
      "execution_count": null,
      "outputs": [
        {
          "output_type": "stream",
          "name": "stdout",
          "text": [
            "Total price of Laptop: $3000\n",
            "Total price of Phone: $2500\n"
          ]
        }
      ]
    },
    {
      "cell_type": "code",
      "source": [
        "# 16.  Create a class Animal with an abstract method sound(). Create two derived classes Cow and Sheep that\n",
        "# implement the sound() method.\n",
        "from abc import ABC, abstractmethod\n",
        "\n",
        "# Abstract base class\n",
        "class Animal(ABC):\n",
        "    @abstractmethod\n",
        "    def sound(self):\n",
        "        pass\n",
        "\n",
        "# class Cow\n",
        "class Cow(Animal):\n",
        "    def sound(self):\n",
        "        return \"Moo\"\n",
        "\n",
        "# class Sheep\n",
        "class Sheep(Animal):\n",
        "    def sound(self):\n",
        "        return \"Baa\"\n"
      ],
      "metadata": {
        "id": "SggV04aPDvWf"
      },
      "execution_count": null,
      "outputs": []
    },
    {
      "cell_type": "code",
      "source": [
        "cow = Cow()\n",
        "sheep = Sheep()\n",
        "\n",
        "print(f\"Cow sound: {cow.sound()}\")\n",
        "print(f\"Sheep sound: {sheep.sound()}\")"
      ],
      "metadata": {
        "colab": {
          "base_uri": "https://localhost:8080/"
        },
        "id": "SR4_Ph4uEIio",
        "outputId": "9310c30d-2bf4-4518-cdd6-c2779570f2ce"
      },
      "execution_count": null,
      "outputs": [
        {
          "output_type": "stream",
          "name": "stdout",
          "text": [
            "Cow sound: Moo\n",
            "Sheep sound: Baa\n"
          ]
        }
      ]
    },
    {
      "cell_type": "code",
      "source": [
        "# 17. . Create a class Book with attributes title, author, and year_published. Add a method get_book_info() that\n",
        "# returns a formatted string with the book's details.\n",
        "class Book:\n",
        "    def __init__(self, title, author, year_published):\n",
        "        self.title = title\n",
        "        self.author = author\n",
        "        self.year_published = year_published\n",
        "\n",
        "    def get_book_info(self):\n",
        "        return f\"'{self.title}' by {self.author}, published in {self.year_published}\""
      ],
      "metadata": {
        "id": "XKyg0SIzEZSl"
      },
      "execution_count": null,
      "outputs": []
    },
    {
      "cell_type": "code",
      "source": [
        "book1 = Book(\"Linear regression\", \"M L Murthy\", 1960)\n",
        "book2 = Book(\"DSA\", \"Corner\", 1949)\n",
        "\n",
        "print(book1.get_book_info())\n",
        "print(book2.get_book_info())\n"
      ],
      "metadata": {
        "colab": {
          "base_uri": "https://localhost:8080/"
        },
        "id": "bfoeI7sOEv9W",
        "outputId": "37e79de1-aec8-4bb3-e2b0-e844aaf1ba7d"
      },
      "execution_count": null,
      "outputs": [
        {
          "output_type": "stream",
          "name": "stdout",
          "text": [
            "'Linear regression' by M L Murthy, published in 1960\n",
            "'DSA' by Corner, published in 1949\n"
          ]
        }
      ]
    },
    {
      "cell_type": "code",
      "source": [
        "# 18. Create a class House with attributes address and price. Create a derived class Mansion that adds an\n",
        "# attribute number_of_rooms.\n",
        "class House:\n",
        "    def __init__(self, address, price):\n",
        "        self.address = address\n",
        "        self.price = price\n",
        "\n",
        "    def get_info(self):\n",
        "        return f\"House located at {self.address}, priced at ${self.price}\"\n",
        "\n",
        "# Class Mansion\n",
        "class Mansion(House):\n",
        "    def __init__(self, address, price, number_of_rooms):\n",
        "        super().__init__(address, price)\n",
        "        self.number_of_rooms = number_of_rooms\n",
        "\n",
        "    def get_info(self):\n",
        "        return f\"Mansion located at {self.address}, priced at ${self.price}, with {self.number_of_rooms} rooms\""
      ],
      "metadata": {
        "id": "raDudQ-pGOsy"
      },
      "execution_count": null,
      "outputs": []
    },
    {
      "cell_type": "code",
      "source": [
        "house = House(\"123 Main St\", 300000)\n",
        "mansion = Mansion(\"456 Luxury Blvd\", 10000000, 15)\n",
        "\n",
        "print(house.get_info())  # Output: House located at 123 Main St, priced at $300000\n",
        "print(mansion.get_info())"
      ],
      "metadata": {
        "colab": {
          "base_uri": "https://localhost:8080/"
        },
        "id": "JVaDJTRiGlWT",
        "outputId": "d1e65d31-8184-416b-bc76-062fd4ee58ce"
      },
      "execution_count": null,
      "outputs": [
        {
          "output_type": "stream",
          "name": "stdout",
          "text": [
            "House located at 123 Main St, priced at $300000\n",
            "Mansion located at 456 Luxury Blvd, priced at $10000000, with 15 rooms\n"
          ]
        }
      ]
    }
  ]
}